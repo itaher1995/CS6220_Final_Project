{
 "cells": [
  {
   "cell_type": "code",
   "execution_count": 1,
   "metadata": {},
   "outputs": [],
   "source": [
    "import pandas as pd\n",
    "import numpy as np\n",
    "from sklearn.preprocessing import LabelEncoder\n",
    "from sklearn.manifold import TSNE\n",
    "from sklearn.decomposition import PCA\n",
    "import seaborn as sns\n",
    "import matplotlib.pyplot as plt\n",
    "from sklearn.metrics import silhouette_score\n",
    "from sklearn.mixture import GaussianMixture\n",
    "from sklearn.cluster import KMeans\n",
    "import pylab as pl\n",
    "from sklearn.metrics.cluster import adjusted_rand_score\n",
    "%matplotlib inline"
   ]
  },
  {
   "cell_type": "markdown",
   "metadata": {},
   "source": [
    "## Read in Data"
   ]
  },
  {
   "cell_type": "code",
   "execution_count": 2,
   "metadata": {},
   "outputs": [
    {
     "name": "stderr",
     "output_type": "stream",
     "text": [
      "/anaconda3/lib/python3.6/site-packages/pandas/core/series.py:2890: FutureWarning: from_csv is deprecated. Please use read_csv(...) instead. Note that some of the default arguments are different, so please refer to the documentation for from_csv when changing your function calls\n",
      "  infer_datetime_format=infer_datetime_format)\n"
     ]
    }
   ],
   "source": [
    "data = pd.read_csv('FMADatasetTrans-cleaned.csv').drop('Unnamed: 0',axis=1)\n",
    "response = pd.Series.from_csv('response.csv')"
   ]
  },
  {
   "cell_type": "code",
   "execution_count": 3,
   "metadata": {},
   "outputs": [
    {
     "data": {
      "text/plain": [
       "Rock                   1997\n",
       "Experimental           1344\n",
       "Electronic             1258\n",
       "Hip-Hop                 369\n",
       "Folk                    339\n",
       "Pop                     325\n",
       "International           237\n",
       "Classical               234\n",
       "Instrumental            169\n",
       "Spoken                  118\n",
       "Old-Time / Historic      95\n",
       "Jazz                     93\n",
       "Soul-RnB                 39\n",
       "Country                  32\n",
       "Blues                    29\n",
       "Easy Listening            4\n",
       "dtype: int64"
      ]
     },
     "execution_count": 3,
     "metadata": {},
     "output_type": "execute_result"
    }
   ],
   "source": [
    "response.value_counts()"
   ]
  },
  {
   "cell_type": "code",
   "execution_count": 3,
   "metadata": {},
   "outputs": [
    {
     "data": {
      "text/plain": [
       "0             Hip-Hop\n",
       "1                 Pop\n",
       "2                Rock\n",
       "3                Rock\n",
       "4                Rock\n",
       "5                Rock\n",
       "6                Rock\n",
       "7                Rock\n",
       "8                Rock\n",
       "9                Rock\n",
       "10               Rock\n",
       "11               Rock\n",
       "12               Rock\n",
       "13               Rock\n",
       "14               Rock\n",
       "15               Rock\n",
       "16               Rock\n",
       "17               Rock\n",
       "18               Rock\n",
       "19               Rock\n",
       "20               Rock\n",
       "21               Rock\n",
       "22               Rock\n",
       "23               Rock\n",
       "24               Rock\n",
       "25               Rock\n",
       "26               Rock\n",
       "27               Rock\n",
       "28         Electronic\n",
       "29         Electronic\n",
       "            ...      \n",
       "6648     Experimental\n",
       "6649     Experimental\n",
       "6650     Experimental\n",
       "6651     Experimental\n",
       "6652     Experimental\n",
       "6653     Experimental\n",
       "6654     Experimental\n",
       "6655     Experimental\n",
       "6656     Experimental\n",
       "6657       Electronic\n",
       "6658       Electronic\n",
       "6659    International\n",
       "6660    International\n",
       "6661    International\n",
       "6662    International\n",
       "6663    International\n",
       "6664    International\n",
       "6665    International\n",
       "6666       Electronic\n",
       "6667       Electronic\n",
       "6668          Hip-Hop\n",
       "6669       Electronic\n",
       "6670       Electronic\n",
       "6671       Electronic\n",
       "6672          Hip-Hop\n",
       "6673             Folk\n",
       "6674             Folk\n",
       "6675             Folk\n",
       "6676             Folk\n",
       "6677             Folk\n",
       "Name: genre, Length: 6678, dtype: object"
      ]
     },
     "execution_count": 3,
     "metadata": {},
     "output_type": "execute_result"
    }
   ],
   "source": [
    "data['genre'] = response\n",
    "data=data.loc[data['genre']!='Easy Listening'].reset_index(drop=True)\n",
    "response = data['genre'].copy(deep=True)\n",
    "data=data.drop('genre',axis=1)\n",
    "response\n"
   ]
  },
  {
   "cell_type": "code",
   "execution_count": 4,
   "metadata": {},
   "outputs": [
    {
     "data": {
      "text/plain": [
       "array([ 6, 11, 12, ...,  5,  5,  5])"
      ]
     },
     "execution_count": 4,
     "metadata": {},
     "output_type": "execute_result"
    }
   ],
   "source": [
    "le = LabelEncoder() #encode variables so that they can be put into a model\n",
    "responseEncoded = le.fit_transform(response)\n",
    "responseEncoded"
   ]
  },
  {
   "cell_type": "code",
   "execution_count": null,
   "metadata": {},
   "outputs": [],
   "source": []
  },
  {
   "cell_type": "markdown",
   "metadata": {},
   "source": [
    "## Visualizing Dataset in 2D"
   ]
  },
  {
   "cell_type": "code",
   "execution_count": 6,
   "metadata": {},
   "outputs": [],
   "source": [
    "def plotClasses2D(X,y,dimensionality_reduction='PCA',title=None):\n",
    "    '''\n",
    "    Use this to visualize the separation of classes in two dimensions.'''\n",
    "    if dimensionality_reduction=='PCA':\n",
    "        pca = PCA(n_components=2) #two dimensions to plot on two dimensions\n",
    "        xPlot = pca.fit_transform(X)\n",
    "    elif dimensionality_reduction=='TSNE':\n",
    "        tsne = TSNE(n_components=2)\n",
    "        xPlot = tsne.fit_transform(X)\n",
    "    else:\n",
    "        xPlot=X\n",
    "    df = pd.DataFrame(xPlot)\n",
    "    if len(df.columns)!=2:\n",
    "        return \"DimError: Can't plot data not in two dimensions\"\n",
    "    df['y'] = y\n",
    "    plt.figure()\n",
    "    for label in df['y'].unique():\n",
    "        sns.regplot(df[0].loc[df['y']==label],df[1].loc[df['y']==label],fit_reg=False,label=label)\n",
    "        plt.legend(bbox_to_anchor=(1.1,1.05))\n",
    "        if title!=None:\n",
    "            plt.title(title)"
   ]
  },
  {
   "cell_type": "code",
   "execution_count": 7,
   "metadata": {},
   "outputs": [
    {
     "ename": "NameError",
     "evalue": "name 'X_train' is not defined",
     "output_type": "error",
     "traceback": [
      "\u001b[0;31m---------------------------------------------------------------------------\u001b[0m",
      "\u001b[0;31mNameError\u001b[0m                                 Traceback (most recent call last)",
      "\u001b[0;32m<ipython-input-7-92d4dd9158e2>\u001b[0m in \u001b[0;36m<module>\u001b[0;34m()\u001b[0m\n\u001b[0;32m----> 1\u001b[0;31m \u001b[0mplotClasses2D\u001b[0m\u001b[0;34m(\u001b[0m\u001b[0mX_train\u001b[0m\u001b[0;34m,\u001b[0m\u001b[0my_train\u001b[0m\u001b[0;34m,\u001b[0m\u001b[0mtitle\u001b[0m\u001b[0;34m=\u001b[0m\u001b[0;34m'Genre Distribution'\u001b[0m\u001b[0;34m)\u001b[0m \u001b[0;31m#pca\u001b[0m\u001b[0;34m\u001b[0m\u001b[0m\n\u001b[0m",
      "\u001b[0;31mNameError\u001b[0m: name 'X_train' is not defined"
     ]
    }
   ],
   "source": [
    "plotClasses2D(X_train,y_train,title='Genre Distribution') #pca"
   ]
  },
  {
   "cell_type": "markdown",
   "metadata": {},
   "source": [
    "## Gaussian Mixture Models"
   ]
  },
  {
   "cell_type": "markdown",
   "metadata": {},
   "source": [
    "## I. Data before PCA"
   ]
  },
  {
   "cell_type": "code",
   "execution_count": 9,
   "metadata": {},
   "outputs": [
    {
     "data": {
      "text/html": [
       "<div>\n",
       "<style scoped>\n",
       "    .dataframe tbody tr th:only-of-type {\n",
       "        vertical-align: middle;\n",
       "    }\n",
       "\n",
       "    .dataframe tbody tr th {\n",
       "        vertical-align: top;\n",
       "    }\n",
       "\n",
       "    .dataframe thead th {\n",
       "        text-align: right;\n",
       "    }\n",
       "</style>\n",
       "<table border=\"1\" class=\"dataframe\">\n",
       "  <thead>\n",
       "    <tr style=\"text-align: right;\">\n",
       "      <th></th>\n",
       "      <th>acousticness</th>\n",
       "      <th>danceability</th>\n",
       "      <th>energy</th>\n",
       "      <th>instrumentalness</th>\n",
       "      <th>speechiness</th>\n",
       "      <th>tempo</th>\n",
       "      <th>valence</th>\n",
       "      <th>artist_discovery</th>\n",
       "      <th>artist_familiarity</th>\n",
       "      <th>artist_hotttnesss</th>\n",
       "      <th>...</th>\n",
       "      <th>tonnetz.37</th>\n",
       "      <th>tonnetz.38</th>\n",
       "      <th>tonnetz.39</th>\n",
       "      <th>tonnetz.40</th>\n",
       "      <th>tonnetz.41</th>\n",
       "      <th>zcr</th>\n",
       "      <th>zcr.1</th>\n",
       "      <th>zcr.2</th>\n",
       "      <th>zcr.3</th>\n",
       "      <th>zcr.6</th>\n",
       "    </tr>\n",
       "  </thead>\n",
       "  <tbody>\n",
       "    <tr>\n",
       "      <th>0</th>\n",
       "      <td>-0.695041</td>\n",
       "      <td>0.682179</td>\n",
       "      <td>0.634544</td>\n",
       "      <td>-1.215102</td>\n",
       "      <td>-2.468293</td>\n",
       "      <td>0.642706</td>\n",
       "      <td>0.575714</td>\n",
       "      <td>0.582495</td>\n",
       "      <td>0.471984</td>\n",
       "      <td>0.508989</td>\n",
       "      <td>...</td>\n",
       "      <td>-1.918384</td>\n",
       "      <td>-1.046551</td>\n",
       "      <td>-1.561353</td>\n",
       "      <td>-1.755760</td>\n",
       "      <td>-1.530469</td>\n",
       "      <td>-8.973411</td>\n",
       "      <td>0.354692</td>\n",
       "      <td>-1.950820</td>\n",
       "      <td>-2.151796</td>\n",
       "      <td>-1.723735</td>\n",
       "    </tr>\n",
       "    <tr>\n",
       "      <th>1</th>\n",
       "      <td>-0.760227</td>\n",
       "      <td>0.521350</td>\n",
       "      <td>0.817554</td>\n",
       "      <td>-1.239133</td>\n",
       "      <td>-0.839564</td>\n",
       "      <td>0.479206</td>\n",
       "      <td>0.267598</td>\n",
       "      <td>0.582495</td>\n",
       "      <td>0.471984</td>\n",
       "      <td>0.508989</td>\n",
       "      <td>...</td>\n",
       "      <td>-1.408139</td>\n",
       "      <td>-1.020470</td>\n",
       "      <td>-1.145736</td>\n",
       "      <td>-1.475555</td>\n",
       "      <td>-1.571847</td>\n",
       "      <td>-6.368528</td>\n",
       "      <td>0.434410</td>\n",
       "      <td>-1.681186</td>\n",
       "      <td>-1.761941</td>\n",
       "      <td>-1.803182</td>\n",
       "    </tr>\n",
       "    <tr>\n",
       "      <th>2</th>\n",
       "      <td>-0.043759</td>\n",
       "      <td>0.662830</td>\n",
       "      <td>0.924633</td>\n",
       "      <td>-0.030882</td>\n",
       "      <td>-8.062676</td>\n",
       "      <td>0.414608</td>\n",
       "      <td>0.963518</td>\n",
       "      <td>0.834591</td>\n",
       "      <td>0.749667</td>\n",
       "      <td>1.000000</td>\n",
       "      <td>...</td>\n",
       "      <td>-1.734801</td>\n",
       "      <td>-1.081774</td>\n",
       "      <td>-0.893442</td>\n",
       "      <td>-1.532135</td>\n",
       "      <td>-1.298345</td>\n",
       "      <td>-13.384400</td>\n",
       "      <td>0.209889</td>\n",
       "      <td>-1.981206</td>\n",
       "      <td>-2.011986</td>\n",
       "      <td>-2.208358</td>\n",
       "    </tr>\n",
       "    <tr>\n",
       "      <th>3</th>\n",
       "      <td>-0.642571</td>\n",
       "      <td>0.504525</td>\n",
       "      <td>0.560467</td>\n",
       "      <td>-1.194809</td>\n",
       "      <td>-0.678925</td>\n",
       "      <td>0.426055</td>\n",
       "      <td>0.893843</td>\n",
       "      <td>0.582495</td>\n",
       "      <td>0.471984</td>\n",
       "      <td>0.508989</td>\n",
       "      <td>...</td>\n",
       "      <td>-1.299278</td>\n",
       "      <td>-0.527856</td>\n",
       "      <td>-0.971555</td>\n",
       "      <td>-1.192269</td>\n",
       "      <td>-1.172752</td>\n",
       "      <td>-5.568277</td>\n",
       "      <td>0.266398</td>\n",
       "      <td>-2.469772</td>\n",
       "      <td>-2.578564</td>\n",
       "      <td>-2.500909</td>\n",
       "    </tr>\n",
       "    <tr>\n",
       "      <th>4</th>\n",
       "      <td>-1.301601</td>\n",
       "      <td>0.228931</td>\n",
       "      <td>0.607130</td>\n",
       "      <td>-0.164302</td>\n",
       "      <td>-8.809239</td>\n",
       "      <td>0.772947</td>\n",
       "      <td>0.158379</td>\n",
       "      <td>0.582395</td>\n",
       "      <td>0.403694</td>\n",
       "      <td>0.508901</td>\n",
       "      <td>...</td>\n",
       "      <td>-1.661267</td>\n",
       "      <td>-1.367831</td>\n",
       "      <td>-1.443515</td>\n",
       "      <td>-1.800587</td>\n",
       "      <td>-1.600945</td>\n",
       "      <td>-6.299742</td>\n",
       "      <td>0.330474</td>\n",
       "      <td>-2.112630</td>\n",
       "      <td>-2.159863</td>\n",
       "      <td>-2.296970</td>\n",
       "    </tr>\n",
       "  </tbody>\n",
       "</table>\n",
       "<p>5 rows × 703 columns</p>\n",
       "</div>"
      ],
      "text/plain": [
       "   acousticness  danceability    energy  instrumentalness  speechiness  \\\n",
       "0     -0.695041      0.682179  0.634544         -1.215102    -2.468293   \n",
       "1     -0.760227      0.521350  0.817554         -1.239133    -0.839564   \n",
       "2     -0.043759      0.662830  0.924633         -0.030882    -8.062676   \n",
       "3     -0.642571      0.504525  0.560467         -1.194809    -0.678925   \n",
       "4     -1.301601      0.228931  0.607130         -0.164302    -8.809239   \n",
       "\n",
       "      tempo   valence  artist_discovery  artist_familiarity  \\\n",
       "0  0.642706  0.575714          0.582495            0.471984   \n",
       "1  0.479206  0.267598          0.582495            0.471984   \n",
       "2  0.414608  0.963518          0.834591            0.749667   \n",
       "3  0.426055  0.893843          0.582495            0.471984   \n",
       "4  0.772947  0.158379          0.582395            0.403694   \n",
       "\n",
       "   artist_hotttnesss    ...     tonnetz.37  tonnetz.38  tonnetz.39  \\\n",
       "0           0.508989    ...      -1.918384   -1.046551   -1.561353   \n",
       "1           0.508989    ...      -1.408139   -1.020470   -1.145736   \n",
       "2           1.000000    ...      -1.734801   -1.081774   -0.893442   \n",
       "3           0.508989    ...      -1.299278   -0.527856   -0.971555   \n",
       "4           0.508901    ...      -1.661267   -1.367831   -1.443515   \n",
       "\n",
       "   tonnetz.40  tonnetz.41        zcr     zcr.1     zcr.2     zcr.3     zcr.6  \n",
       "0   -1.755760   -1.530469  -8.973411  0.354692 -1.950820 -2.151796 -1.723735  \n",
       "1   -1.475555   -1.571847  -6.368528  0.434410 -1.681186 -1.761941 -1.803182  \n",
       "2   -1.532135   -1.298345 -13.384400  0.209889 -1.981206 -2.011986 -2.208358  \n",
       "3   -1.192269   -1.172752  -5.568277  0.266398 -2.469772 -2.578564 -2.500909  \n",
       "4   -1.800587   -1.600945  -6.299742  0.330474 -2.112630 -2.159863 -2.296970  \n",
       "\n",
       "[5 rows x 703 columns]"
      ]
     },
     "execution_count": 9,
     "metadata": {},
     "output_type": "execute_result"
    }
   ],
   "source": [
    "data.head()"
   ]
  },
  {
   "cell_type": "code",
   "execution_count": 10,
   "metadata": {},
   "outputs": [
    {
     "data": {
      "image/png": "[encoded data removed]",
      "text/plain": [
       "<matplotlib.figure.Figure at 0x1082b6128>"
      ]
     },
     "metadata": {},
     "output_type": "display_data"
    }
   ],
   "source": [
    "# How our data looks before clustering\n",
    "plotClasses2D(data,responseEncoded,dimensionality_reduction='PCA',title='Data points before clustering (pre PCA)')"
   ]
  },
  {
   "cell_type": "markdown",
   "metadata": {},
   "source": [
    "## Finding optimal number of clusters:\n",
    "## (a) AIC and BIC criterion\n",
    "Akaike information criterion (AIC) is an estimator of the relative quality of statistical models for a given set of data. Lower value of AIC suggests \"better\" model, but it is a relative measure of model fit.\n",
    "Bayesian information criterion (BIC) is a criterion for model selection among a finite set of models; the model with the lowest BIC is preferred"
   ]
  },
  {
   "cell_type": "code",
   "execution_count": null,
   "metadata": {},
   "outputs": [],
   "source": [
    "n_clusters = np.arange(1, 31)\n",
    "models = [GaussianMixture(k, covariance_type='full', random_state=0).fit(data)\n",
    "          for k in n_clusters]\n",
    "\n",
    "plt.plot(n_clusters, [m.bic(data) for m in models], label='BIC')\n",
    "plt.plot(n_clusters, [m.aic(data) for m in models], label='AIC')\n",
    "plt.legend(loc='best')\n",
    "plt.xlabel('n_clusters');\n",
    "plt.title('AIC and BIC function')"
   ]
  },
  {
   "cell_type": "markdown",
   "metadata": {},
   "source": [
    "In order to choose a model, we can use either AIC or BIC metric. The optimal number of clusters is the value that minimizes the AIC or BIC. We get a reasonable value for n_clusters (number of clusters) with BIC. The lowest value of BIC is n=3 after which the function steadily increases. The lowest value for AIC is 30 but using this metric can lead to overfitting"
   ]
  },
  {
   "cell_type": "markdown",
   "metadata": {},
   "source": [
    "## (b) Silhouette Score metric\n",
    "The silhouette value is a measure of how similar an object is to its own cluster (cohesion) compared to other clusters (separation). The silhouette ranges from −1 to +1, where a high value indicates that the object is well matched to its own cluster and poorly matched to neighboring clusters.\n"
   ]
  },
  {
   "cell_type": "code",
   "execution_count": null,
   "metadata": {
    "scrolled": false
   },
   "outputs": [],
   "source": [
    "def sc_evaluate_clusters(X,max_clusters):\n",
    "    s = np.zeros(max_clusters+1)\n",
    "    s[0] = 0;\n",
    "    s[1] = 0;\n",
    "    for k in range(2,max_clusters+1):\n",
    "        gmm = GaussianMixture(n_components=k,random_state=0).fit(data)\n",
    "        preds = gmm.predict(data)\n",
    "        s[k] = silhouette_score(X,preds,metric='euclidean')\n",
    "    plt.plot(range(2,len(s)),s[2:])\n",
    "    plt.xlabel('Number of clusters')\n",
    "    plt.ylabel('Silhouette Score')\n",
    "    \n",
    "sc_evaluate_clusters(data,30)"
   ]
  },
  {
   "cell_type": "markdown",
   "metadata": {},
   "source": [
    "We can see the second maxima i.e highest silhouette score value is when number of clusters is 12."
   ]
  },
  {
   "cell_type": "code",
   "execution_count": 5,
   "metadata": {},
   "outputs": [
    {
     "ename": "NameError",
     "evalue": "name 'plotClasses2D' is not defined",
     "output_type": "error",
     "traceback": [
      "\u001b[0;31m---------------------------------------------------------------------------\u001b[0m",
      "\u001b[0;31mNameError\u001b[0m                                 Traceback (most recent call last)",
      "\u001b[0;32m<ipython-input-5-0de15e29720d>\u001b[0m in \u001b[0;36m<module>\u001b[0;34m()\u001b[0m\n\u001b[1;32m      1\u001b[0m \u001b[0mgmm\u001b[0m \u001b[0;34m=\u001b[0m \u001b[0mGaussianMixture\u001b[0m\u001b[0;34m(\u001b[0m\u001b[0mn_components\u001b[0m\u001b[0;34m=\u001b[0m\u001b[0;36m3\u001b[0m\u001b[0;34m,\u001b[0m\u001b[0mrandom_state\u001b[0m\u001b[0;34m=\u001b[0m\u001b[0;36m0\u001b[0m\u001b[0;34m)\u001b[0m\u001b[0;34m.\u001b[0m\u001b[0mfit\u001b[0m\u001b[0;34m(\u001b[0m\u001b[0mdata\u001b[0m\u001b[0;34m)\u001b[0m\u001b[0;34m\u001b[0m\u001b[0m\n\u001b[1;32m      2\u001b[0m \u001b[0mprediction\u001b[0m \u001b[0;34m=\u001b[0m \u001b[0mgmm\u001b[0m\u001b[0;34m.\u001b[0m\u001b[0mpredict\u001b[0m\u001b[0;34m(\u001b[0m\u001b[0mdata\u001b[0m\u001b[0;34m)\u001b[0m\u001b[0;34m\u001b[0m\u001b[0m\n\u001b[0;32m----> 3\u001b[0;31m \u001b[0mplotClasses2D\u001b[0m\u001b[0;34m(\u001b[0m\u001b[0mdata\u001b[0m\u001b[0;34m,\u001b[0m\u001b[0mprediction\u001b[0m\u001b[0;34m,\u001b[0m\u001b[0mdimensionality_reduction\u001b[0m\u001b[0;34m=\u001b[0m\u001b[0;34m'PCA'\u001b[0m\u001b[0;34m,\u001b[0m\u001b[0mtitle\u001b[0m\u001b[0;34m=\u001b[0m\u001b[0;34m'Data points after GMM clustering (pre PCA)'\u001b[0m\u001b[0;34m)\u001b[0m\u001b[0;34m\u001b[0m\u001b[0m\n\u001b[0m",
      "\u001b[0;31mNameError\u001b[0m: name 'plotClasses2D' is not defined"
     ]
    }
   ],
   "source": [
    "gmm = GaussianMixture(n_components=3,random_state=0).fit(data)\n",
    "prediction = gmm.predict(data)\n",
    "plotClasses2D(data,prediction,dimensionality_reduction='PCA',title='Data points after GMM clustering (pre PCA)')"
   ]
  },
  {
   "cell_type": "code",
   "execution_count": 7,
   "metadata": {},
   "outputs": [
    {
     "data": {
      "image/png": "[encoded data removed]",
      "text/plain": [
       "<matplotlib.figure.Figure at 0x10d06e438>"
      ]
     },
     "metadata": {},
     "output_type": "display_data"
    }
   ],
   "source": [
    "gmm = GaussianMixture(n_components=5,random_state=0).fit(data)\n",
    "prediction = gmm.predict(data)\n",
    "plotClasses2D(data,prediction,dimensionality_reduction='PCA',title='Data points after GMM clustering (pre PCA)')"
   ]
  },
  {
   "cell_type": "code",
   "execution_count": 8,
   "metadata": {},
   "outputs": [
    {
     "data": {
      "image/png": "[encoded data removed]",
      "text/plain": [
       "<matplotlib.figure.Figure at 0x10d06e358>"
      ]
     },
     "metadata": {},
     "output_type": "display_data"
    }
   ],
   "source": [
    "gmm = GaussianMixture(n_components=7,random_state=0).fit(data)\n",
    "prediction = gmm.predict(data)\n",
    "plotClasses2D(data,prediction,dimensionality_reduction='PCA',title='Data points after GMM clustering (pre PCA)')"
   ]
  },
  {
   "cell_type": "code",
   "execution_count": null,
   "metadata": {},
   "outputs": [],
   "source": [
    "gmm = GaussianMixture(n_components=10,random_state=0).fit(data)\n",
    "prediction = gmm.predict(data)\n",
    "plotClasses2D(data,prediction,dimensionality_reduction='PCA',title='Data points after clustering (pre PCA)')"
   ]
  },
  {
   "cell_type": "markdown",
   "metadata": {},
   "source": [
    "## Comparing perfomance of k-Means and GMM"
   ]
  },
  {
   "cell_type": "code",
   "execution_count": null,
   "metadata": {},
   "outputs": [],
   "source": [
    "kmeans = KMeans(init='k-means++',n_clusters=7,n_init=10)\n",
    "kmeans.fit_predict(data)"
   ]
  },
  {
   "cell_type": "code",
   "execution_count": null,
   "metadata": {},
   "outputs": [],
   "source": [
    "adjusted_rand_score(kmeans.labels_,prediction)"
   ]
  },
  {
   "cell_type": "code",
   "execution_count": null,
   "metadata": {},
   "outputs": [],
   "source": [
    "adjusted_rand_score(responseEncoded,kmeans.labels_)"
   ]
  },
  {
   "cell_type": "code",
   "execution_count": null,
   "metadata": {},
   "outputs": [],
   "source": [
    "from sklearn.cluster import KMeans\n",
    "kmeans = KMeans(init='k-means++',n_clusters=16,n_init=10)\n",
    "kmeans.fit_predict(data)"
   ]
  },
  {
   "cell_type": "code",
   "execution_count": null,
   "metadata": {},
   "outputs": [],
   "source": [
    "adjusted_rand_score(responseEncoded,kmeans.labels_)"
   ]
  },
  {
   "cell_type": "code",
   "execution_count": null,
   "metadata": {},
   "outputs": [],
   "source": [
    "gmm = GaussianMixture(n_components=16,random_state=0).fit(data)\n",
    "prediction = gmm.predict(data)\n",
    "adjusted_rand_score(responseEncoded,prediction)"
   ]
  },
  {
   "cell_type": "markdown",
   "metadata": {},
   "source": [
    "## II. Data after PCA"
   ]
  },
  {
   "cell_type": "code",
   "execution_count": null,
   "metadata": {},
   "outputs": [],
   "source": [
    "reducedDf = pd.read_csv('FMADataset-reduced-with-pca.csv')\n",
    "reducedDf.head()"
   ]
  },
  {
   "cell_type": "code",
   "execution_count": null,
   "metadata": {},
   "outputs": [],
   "source": [
    "# dropping unnamed column\n",
    "reducedDf = reducedDf[['0','1','2','3','4','5','6','genre']]\n",
    "reducedDf.head()"
   ]
  },
  {
   "cell_type": "code",
   "execution_count": null,
   "metadata": {},
   "outputs": [],
   "source": [
    "genres = reducedDf['genre'].copy(deep=True)\n",
    "reducedDf=reducedDf.drop('genre',axis=1)\n",
    "genres"
   ]
  },
  {
   "cell_type": "code",
   "execution_count": null,
   "metadata": {},
   "outputs": [],
   "source": [
    "le1 = LabelEncoder() #encode variables so that they can be put into a model\n",
    "genresEncoded = le1.fit_transform(genres)\n",
    "genresEncoded"
   ]
  },
  {
   "cell_type": "code",
   "execution_count": null,
   "metadata": {},
   "outputs": [],
   "source": [
    "# How our data looks before clustering\n",
    "plotClasses2D(reducedDf,genresEncoded,dimensionality_reduction='PCA',title='Data points before clustering (post PCA)')"
   ]
  },
  {
   "cell_type": "markdown",
   "metadata": {},
   "source": [
    "## Finding optimal number of clusters:"
   ]
  },
  {
   "cell_type": "markdown",
   "metadata": {},
   "source": [
    "## (a) AIC and BIC Criteria"
   ]
  },
  {
   "cell_type": "code",
   "execution_count": null,
   "metadata": {},
   "outputs": [],
   "source": [
    "n_clusters = np.arange(1, 31)\n",
    "models = [GaussianMixture(n, covariance_type='full', random_state=0).fit(reducedDf)\n",
    "          for n in n_clusters]\n",
    "\n",
    "plt.plot(n_clusters, [m.bic(reducedDf) for m in models], label='BIC')\n",
    "plt.plot(n_clusters, [m.aic(reducedDf) for m in models], label='AIC')\n",
    "plt.legend(loc='best')\n",
    "plt.xlabel('n_clusters');\n",
    "plt.title('AIC and BIC function')"
   ]
  },
  {
   "cell_type": "markdown",
   "metadata": {},
   "source": [
    "In order to choose a model, we can use either AIC or BIC metric. The optimal number of clusters is the value that minimizes the AIC or BIC. We get a reasonable value for n_clusters (number of clusters) with BIC, that is when n_clusters=6. AIC shows lowest value at n_clusters=30, but this could lead to overfitting. We can see that at n_clusters=11, AIC reaches a lower value than before and at n_clusters=10, BIC reaches a low value before steadily increasing."
   ]
  },
  {
   "cell_type": "markdown",
   "metadata": {},
   "source": [
    "## (b) Silhouette Score"
   ]
  },
  {
   "cell_type": "code",
   "execution_count": null,
   "metadata": {},
   "outputs": [],
   "source": [
    "def sc_evaluate_clusters(X,max_clusters):\n",
    "    s = np.zeros(max_clusters+1)\n",
    "    s[0] = 0;\n",
    "    s[1] = 0;\n",
    "    for k in range(2,max_clusters+1):\n",
    "        gmm = GaussianMixture(n_components=k,random_state=42).fit(reducedDf)\n",
    "        preds = gmm.predict(reducedDf)\n",
    "        s[k] = silhouette_score(X,preds,metric='euclidean')\n",
    "    plt.plot(range(2,len(s)),s[2:])\n",
    "    plt.xlabel('Number of clusters')\n",
    "    plt.ylabel('Silhouette Score')\n",
    "    \n",
    "sc_evaluate_clusters(reducedDf,30)"
   ]
  },
  {
   "cell_type": "markdown",
   "metadata": {},
   "source": [
    "We can see the second maxima i.e highest silhouette score value is when number of clusters is around 7."
   ]
  },
  {
   "cell_type": "code",
   "execution_count": null,
   "metadata": {},
   "outputs": [],
   "source": [
    "gmm = GaussianMixture(n_components=5,random_state=0).fit(reducedDf)\n",
    "prediction = gmm.predict(reducedDf)\n",
    "plotClasses2D(reducedDf,prediction,dimensionality_reduction='PCA',title='Data points after GMM clustering (post PCA)')"
   ]
  },
  {
   "cell_type": "code",
   "execution_count": null,
   "metadata": {},
   "outputs": [],
   "source": [
    "gmm = GaussianMixture(n_components=7,random_state=0).fit(reducedDf)\n",
    "prediction = gmm.predict(reducedDf)\n",
    "plotClasses2D(reducedDf,prediction,dimensionality_reduction='PCA',title='Data points after GMM clustering (post PCA)')"
   ]
  },
  {
   "cell_type": "code",
   "execution_count": null,
   "metadata": {},
   "outputs": [],
   "source": []
  },
  {
   "cell_type": "code",
   "execution_count": 9,
   "metadata": {},
   "outputs": [
    {
     "data": {
      "text/plain": [
       "array([0, 3, 4, ..., 1, 3, 3])"
      ]
     },
     "execution_count": 9,
     "metadata": {},
     "output_type": "execute_result"
    }
   ],
   "source": [
    "prediction"
   ]
  },
  {
   "cell_type": "code",
   "execution_count": 12,
   "metadata": {},
   "outputs": [
    {
     "ename": "KeyError",
     "evalue": "'genre'",
     "output_type": "error",
     "traceback": [
      "\u001b[0;31m---------------------------------------------------------------------------\u001b[0m",
      "\u001b[0;31mKeyError\u001b[0m                                  Traceback (most recent call last)",
      "\u001b[0;32m/anaconda3/lib/python3.6/site-packages/pandas/core/indexes/base.py\u001b[0m in \u001b[0;36mget_loc\u001b[0;34m(self, key, method, tolerance)\u001b[0m\n\u001b[1;32m   2524\u001b[0m             \u001b[0;32mtry\u001b[0m\u001b[0;34m:\u001b[0m\u001b[0;34m\u001b[0m\u001b[0m\n\u001b[0;32m-> 2525\u001b[0;31m                 \u001b[0;32mreturn\u001b[0m \u001b[0mself\u001b[0m\u001b[0;34m.\u001b[0m\u001b[0m_engine\u001b[0m\u001b[0;34m.\u001b[0m\u001b[0mget_loc\u001b[0m\u001b[0;34m(\u001b[0m\u001b[0mkey\u001b[0m\u001b[0;34m)\u001b[0m\u001b[0;34m\u001b[0m\u001b[0m\n\u001b[0m\u001b[1;32m   2526\u001b[0m             \u001b[0;32mexcept\u001b[0m \u001b[0mKeyError\u001b[0m\u001b[0;34m:\u001b[0m\u001b[0;34m\u001b[0m\u001b[0m\n",
      "\u001b[0;32mpandas/_libs/index.pyx\u001b[0m in \u001b[0;36mpandas._libs.index.IndexEngine.get_loc\u001b[0;34m()\u001b[0m\n",
      "\u001b[0;32mpandas/_libs/index.pyx\u001b[0m in \u001b[0;36mpandas._libs.index.IndexEngine.get_loc\u001b[0;34m()\u001b[0m\n",
      "\u001b[0;32mpandas/_libs/hashtable_class_helper.pxi\u001b[0m in \u001b[0;36mpandas._libs.hashtable.PyObjectHashTable.get_item\u001b[0;34m()\u001b[0m\n",
      "\u001b[0;32mpandas/_libs/hashtable_class_helper.pxi\u001b[0m in \u001b[0;36mpandas._libs.hashtable.PyObjectHashTable.get_item\u001b[0;34m()\u001b[0m\n",
      "\u001b[0;31mKeyError\u001b[0m: 'genre'",
      "\nDuring handling of the above exception, another exception occurred:\n",
      "\u001b[0;31mKeyError\u001b[0m                                  Traceback (most recent call last)",
      "\u001b[0;32m<ipython-input-12-2672c22a9afa>\u001b[0m in \u001b[0;36m<module>\u001b[0;34m()\u001b[0m\n\u001b[0;32m----> 1\u001b[0;31m \u001b[0mdata\u001b[0m\u001b[0;34m[\u001b[0m\u001b[0;34m'genre'\u001b[0m\u001b[0;34m]\u001b[0m\u001b[0;34m\u001b[0m\u001b[0m\n\u001b[0m",
      "\u001b[0;32m/anaconda3/lib/python3.6/site-packages/pandas/core/frame.py\u001b[0m in \u001b[0;36m__getitem__\u001b[0;34m(self, key)\u001b[0m\n\u001b[1;32m   2137\u001b[0m             \u001b[0;32mreturn\u001b[0m \u001b[0mself\u001b[0m\u001b[0;34m.\u001b[0m\u001b[0m_getitem_multilevel\u001b[0m\u001b[0;34m(\u001b[0m\u001b[0mkey\u001b[0m\u001b[0;34m)\u001b[0m\u001b[0;34m\u001b[0m\u001b[0m\n\u001b[1;32m   2138\u001b[0m         \u001b[0;32melse\u001b[0m\u001b[0;34m:\u001b[0m\u001b[0;34m\u001b[0m\u001b[0m\n\u001b[0;32m-> 2139\u001b[0;31m             \u001b[0;32mreturn\u001b[0m \u001b[0mself\u001b[0m\u001b[0;34m.\u001b[0m\u001b[0m_getitem_column\u001b[0m\u001b[0;34m(\u001b[0m\u001b[0mkey\u001b[0m\u001b[0;34m)\u001b[0m\u001b[0;34m\u001b[0m\u001b[0m\n\u001b[0m\u001b[1;32m   2140\u001b[0m \u001b[0;34m\u001b[0m\u001b[0m\n\u001b[1;32m   2141\u001b[0m     \u001b[0;32mdef\u001b[0m \u001b[0m_getitem_column\u001b[0m\u001b[0;34m(\u001b[0m\u001b[0mself\u001b[0m\u001b[0;34m,\u001b[0m \u001b[0mkey\u001b[0m\u001b[0;34m)\u001b[0m\u001b[0;34m:\u001b[0m\u001b[0;34m\u001b[0m\u001b[0m\n",
      "\u001b[0;32m/anaconda3/lib/python3.6/site-packages/pandas/core/frame.py\u001b[0m in \u001b[0;36m_getitem_column\u001b[0;34m(self, key)\u001b[0m\n\u001b[1;32m   2144\u001b[0m         \u001b[0;31m# get column\u001b[0m\u001b[0;34m\u001b[0m\u001b[0;34m\u001b[0m\u001b[0m\n\u001b[1;32m   2145\u001b[0m         \u001b[0;32mif\u001b[0m \u001b[0mself\u001b[0m\u001b[0;34m.\u001b[0m\u001b[0mcolumns\u001b[0m\u001b[0;34m.\u001b[0m\u001b[0mis_unique\u001b[0m\u001b[0;34m:\u001b[0m\u001b[0;34m\u001b[0m\u001b[0m\n\u001b[0;32m-> 2146\u001b[0;31m             \u001b[0;32mreturn\u001b[0m \u001b[0mself\u001b[0m\u001b[0;34m.\u001b[0m\u001b[0m_get_item_cache\u001b[0m\u001b[0;34m(\u001b[0m\u001b[0mkey\u001b[0m\u001b[0;34m)\u001b[0m\u001b[0;34m\u001b[0m\u001b[0m\n\u001b[0m\u001b[1;32m   2147\u001b[0m \u001b[0;34m\u001b[0m\u001b[0m\n\u001b[1;32m   2148\u001b[0m         \u001b[0;31m# duplicate columns & possible reduce dimensionality\u001b[0m\u001b[0;34m\u001b[0m\u001b[0;34m\u001b[0m\u001b[0m\n",
      "\u001b[0;32m/anaconda3/lib/python3.6/site-packages/pandas/core/generic.py\u001b[0m in \u001b[0;36m_get_item_cache\u001b[0;34m(self, item)\u001b[0m\n\u001b[1;32m   1840\u001b[0m         \u001b[0mres\u001b[0m \u001b[0;34m=\u001b[0m \u001b[0mcache\u001b[0m\u001b[0;34m.\u001b[0m\u001b[0mget\u001b[0m\u001b[0;34m(\u001b[0m\u001b[0mitem\u001b[0m\u001b[0;34m)\u001b[0m\u001b[0;34m\u001b[0m\u001b[0m\n\u001b[1;32m   1841\u001b[0m         \u001b[0;32mif\u001b[0m \u001b[0mres\u001b[0m \u001b[0;32mis\u001b[0m \u001b[0;32mNone\u001b[0m\u001b[0;34m:\u001b[0m\u001b[0;34m\u001b[0m\u001b[0m\n\u001b[0;32m-> 1842\u001b[0;31m             \u001b[0mvalues\u001b[0m \u001b[0;34m=\u001b[0m \u001b[0mself\u001b[0m\u001b[0;34m.\u001b[0m\u001b[0m_data\u001b[0m\u001b[0;34m.\u001b[0m\u001b[0mget\u001b[0m\u001b[0;34m(\u001b[0m\u001b[0mitem\u001b[0m\u001b[0;34m)\u001b[0m\u001b[0;34m\u001b[0m\u001b[0m\n\u001b[0m\u001b[1;32m   1843\u001b[0m             \u001b[0mres\u001b[0m \u001b[0;34m=\u001b[0m \u001b[0mself\u001b[0m\u001b[0;34m.\u001b[0m\u001b[0m_box_item_values\u001b[0m\u001b[0;34m(\u001b[0m\u001b[0mitem\u001b[0m\u001b[0;34m,\u001b[0m \u001b[0mvalues\u001b[0m\u001b[0;34m)\u001b[0m\u001b[0;34m\u001b[0m\u001b[0m\n\u001b[1;32m   1844\u001b[0m             \u001b[0mcache\u001b[0m\u001b[0;34m[\u001b[0m\u001b[0mitem\u001b[0m\u001b[0;34m]\u001b[0m \u001b[0;34m=\u001b[0m \u001b[0mres\u001b[0m\u001b[0;34m\u001b[0m\u001b[0m\n",
      "\u001b[0;32m/anaconda3/lib/python3.6/site-packages/pandas/core/internals.py\u001b[0m in \u001b[0;36mget\u001b[0;34m(self, item, fastpath)\u001b[0m\n\u001b[1;32m   3841\u001b[0m \u001b[0;34m\u001b[0m\u001b[0m\n\u001b[1;32m   3842\u001b[0m             \u001b[0;32mif\u001b[0m \u001b[0;32mnot\u001b[0m \u001b[0misna\u001b[0m\u001b[0;34m(\u001b[0m\u001b[0mitem\u001b[0m\u001b[0;34m)\u001b[0m\u001b[0;34m:\u001b[0m\u001b[0;34m\u001b[0m\u001b[0m\n\u001b[0;32m-> 3843\u001b[0;31m                 \u001b[0mloc\u001b[0m \u001b[0;34m=\u001b[0m \u001b[0mself\u001b[0m\u001b[0;34m.\u001b[0m\u001b[0mitems\u001b[0m\u001b[0;34m.\u001b[0m\u001b[0mget_loc\u001b[0m\u001b[0;34m(\u001b[0m\u001b[0mitem\u001b[0m\u001b[0;34m)\u001b[0m\u001b[0;34m\u001b[0m\u001b[0m\n\u001b[0m\u001b[1;32m   3844\u001b[0m             \u001b[0;32melse\u001b[0m\u001b[0;34m:\u001b[0m\u001b[0;34m\u001b[0m\u001b[0m\n\u001b[1;32m   3845\u001b[0m                 \u001b[0mindexer\u001b[0m \u001b[0;34m=\u001b[0m \u001b[0mnp\u001b[0m\u001b[0;34m.\u001b[0m\u001b[0marange\u001b[0m\u001b[0;34m(\u001b[0m\u001b[0mlen\u001b[0m\u001b[0;34m(\u001b[0m\u001b[0mself\u001b[0m\u001b[0;34m.\u001b[0m\u001b[0mitems\u001b[0m\u001b[0;34m)\u001b[0m\u001b[0;34m)\u001b[0m\u001b[0;34m[\u001b[0m\u001b[0misna\u001b[0m\u001b[0;34m(\u001b[0m\u001b[0mself\u001b[0m\u001b[0;34m.\u001b[0m\u001b[0mitems\u001b[0m\u001b[0;34m)\u001b[0m\u001b[0;34m]\u001b[0m\u001b[0;34m\u001b[0m\u001b[0m\n",
      "\u001b[0;32m/anaconda3/lib/python3.6/site-packages/pandas/core/indexes/base.py\u001b[0m in \u001b[0;36mget_loc\u001b[0;34m(self, key, method, tolerance)\u001b[0m\n\u001b[1;32m   2525\u001b[0m                 \u001b[0;32mreturn\u001b[0m \u001b[0mself\u001b[0m\u001b[0;34m.\u001b[0m\u001b[0m_engine\u001b[0m\u001b[0;34m.\u001b[0m\u001b[0mget_loc\u001b[0m\u001b[0;34m(\u001b[0m\u001b[0mkey\u001b[0m\u001b[0;34m)\u001b[0m\u001b[0;34m\u001b[0m\u001b[0m\n\u001b[1;32m   2526\u001b[0m             \u001b[0;32mexcept\u001b[0m \u001b[0mKeyError\u001b[0m\u001b[0;34m:\u001b[0m\u001b[0;34m\u001b[0m\u001b[0m\n\u001b[0;32m-> 2527\u001b[0;31m                 \u001b[0;32mreturn\u001b[0m \u001b[0mself\u001b[0m\u001b[0;34m.\u001b[0m\u001b[0m_engine\u001b[0m\u001b[0;34m.\u001b[0m\u001b[0mget_loc\u001b[0m\u001b[0;34m(\u001b[0m\u001b[0mself\u001b[0m\u001b[0;34m.\u001b[0m\u001b[0m_maybe_cast_indexer\u001b[0m\u001b[0;34m(\u001b[0m\u001b[0mkey\u001b[0m\u001b[0;34m)\u001b[0m\u001b[0;34m)\u001b[0m\u001b[0;34m\u001b[0m\u001b[0m\n\u001b[0m\u001b[1;32m   2528\u001b[0m \u001b[0;34m\u001b[0m\u001b[0m\n\u001b[1;32m   2529\u001b[0m         \u001b[0mindexer\u001b[0m \u001b[0;34m=\u001b[0m \u001b[0mself\u001b[0m\u001b[0;34m.\u001b[0m\u001b[0mget_indexer\u001b[0m\u001b[0;34m(\u001b[0m\u001b[0;34m[\u001b[0m\u001b[0mkey\u001b[0m\u001b[0;34m]\u001b[0m\u001b[0;34m,\u001b[0m \u001b[0mmethod\u001b[0m\u001b[0;34m=\u001b[0m\u001b[0mmethod\u001b[0m\u001b[0;34m,\u001b[0m \u001b[0mtolerance\u001b[0m\u001b[0;34m=\u001b[0m\u001b[0mtolerance\u001b[0m\u001b[0;34m)\u001b[0m\u001b[0;34m\u001b[0m\u001b[0m\n",
      "\u001b[0;32mpandas/_libs/index.pyx\u001b[0m in \u001b[0;36mpandas._libs.index.IndexEngine.get_loc\u001b[0;34m()\u001b[0m\n",
      "\u001b[0;32mpandas/_libs/index.pyx\u001b[0m in \u001b[0;36mpandas._libs.index.IndexEngine.get_loc\u001b[0;34m()\u001b[0m\n",
      "\u001b[0;32mpandas/_libs/hashtable_class_helper.pxi\u001b[0m in \u001b[0;36mpandas._libs.hashtable.PyObjectHashTable.get_item\u001b[0;34m()\u001b[0m\n",
      "\u001b[0;32mpandas/_libs/hashtable_class_helper.pxi\u001b[0m in \u001b[0;36mpandas._libs.hashtable.PyObjectHashTable.get_item\u001b[0;34m()\u001b[0m\n",
      "\u001b[0;31mKeyError\u001b[0m: 'genre'"
     ]
    }
   ],
   "source": [
    "data['genre']"
   ]
  },
  {
   "cell_type": "code",
   "execution_count": 13,
   "metadata": {},
   "outputs": [
    {
     "data": {
      "text/plain": [
       "['acousticness',\n",
       " 'danceability',\n",
       " 'energy',\n",
       " 'instrumentalness',\n",
       " 'speechiness',\n",
       " 'tempo',\n",
       " 'valence',\n",
       " 'artist_discovery',\n",
       " 'artist_familiarity',\n",
       " 'artist_hotttnesss',\n",
       " '000',\n",
       " '001',\n",
       " '002',\n",
       " '003',\n",
       " '004',\n",
       " '005',\n",
       " '006',\n",
       " '007',\n",
       " '008',\n",
       " '009',\n",
       " '010',\n",
       " '011',\n",
       " '012',\n",
       " '013',\n",
       " '014',\n",
       " '015',\n",
       " '016',\n",
       " '017',\n",
       " '018',\n",
       " '019',\n",
       " '020',\n",
       " '021',\n",
       " '022',\n",
       " '023',\n",
       " '024',\n",
       " '025',\n",
       " '026',\n",
       " '027',\n",
       " '028',\n",
       " '029',\n",
       " '030',\n",
       " '031',\n",
       " '032',\n",
       " '033',\n",
       " '034',\n",
       " '035',\n",
       " '036',\n",
       " '037',\n",
       " '038',\n",
       " '039',\n",
       " '040',\n",
       " '041',\n",
       " '042',\n",
       " '043',\n",
       " '044',\n",
       " '045',\n",
       " '046',\n",
       " '047',\n",
       " '048',\n",
       " '049',\n",
       " '050',\n",
       " '051',\n",
       " '052',\n",
       " '053',\n",
       " '054',\n",
       " '055',\n",
       " '056',\n",
       " '057',\n",
       " '058',\n",
       " '059',\n",
       " '060',\n",
       " '061',\n",
       " '062',\n",
       " '063',\n",
       " '064',\n",
       " '065',\n",
       " '066',\n",
       " '067',\n",
       " '068',\n",
       " '069',\n",
       " '070',\n",
       " '071',\n",
       " '072',\n",
       " '073',\n",
       " '074',\n",
       " '076',\n",
       " '077',\n",
       " '078',\n",
       " '079',\n",
       " '080',\n",
       " '081',\n",
       " '082',\n",
       " '083',\n",
       " '084',\n",
       " '085',\n",
       " '086',\n",
       " '087',\n",
       " '088',\n",
       " '089',\n",
       " '090',\n",
       " '091',\n",
       " '092',\n",
       " '093',\n",
       " '094',\n",
       " '095',\n",
       " '096',\n",
       " '097',\n",
       " '098',\n",
       " '100',\n",
       " '101',\n",
       " '102',\n",
       " '103',\n",
       " '104',\n",
       " '105',\n",
       " '106',\n",
       " '107',\n",
       " '108',\n",
       " '109',\n",
       " '110',\n",
       " '112',\n",
       " '113',\n",
       " '114',\n",
       " '115',\n",
       " '116',\n",
       " '117',\n",
       " '118',\n",
       " '119',\n",
       " '120',\n",
       " '121',\n",
       " '122',\n",
       " '123',\n",
       " '124',\n",
       " '125',\n",
       " '126',\n",
       " '127',\n",
       " '128',\n",
       " '129',\n",
       " '130',\n",
       " '131',\n",
       " '132',\n",
       " '133',\n",
       " '134',\n",
       " '135',\n",
       " '136',\n",
       " '137',\n",
       " '138',\n",
       " '139',\n",
       " '140',\n",
       " '141',\n",
       " '142',\n",
       " '143',\n",
       " '144',\n",
       " '146',\n",
       " '147',\n",
       " '148',\n",
       " '149',\n",
       " '150',\n",
       " '151',\n",
       " '152',\n",
       " '153',\n",
       " '154',\n",
       " '155',\n",
       " '156',\n",
       " '157',\n",
       " '158',\n",
       " '159',\n",
       " '160',\n",
       " '161',\n",
       " '162',\n",
       " '163',\n",
       " '164',\n",
       " '165',\n",
       " '166',\n",
       " '167',\n",
       " '168',\n",
       " '169',\n",
       " '170',\n",
       " '172',\n",
       " '174',\n",
       " '175',\n",
       " '176',\n",
       " '177',\n",
       " '178',\n",
       " '179',\n",
       " '180',\n",
       " '181',\n",
       " '182',\n",
       " '183',\n",
       " '184',\n",
       " '185',\n",
       " '187',\n",
       " '188',\n",
       " '189',\n",
       " '191',\n",
       " '192',\n",
       " '193',\n",
       " '194',\n",
       " '195',\n",
       " '196',\n",
       " '197',\n",
       " '198',\n",
       " '199',\n",
       " '200',\n",
       " '201',\n",
       " '202',\n",
       " '203',\n",
       " '204',\n",
       " '205',\n",
       " '206',\n",
       " '207',\n",
       " '208',\n",
       " '209',\n",
       " '210',\n",
       " '212',\n",
       " '213',\n",
       " '214',\n",
       " '215',\n",
       " '216',\n",
       " '217',\n",
       " '218',\n",
       " '220',\n",
       " '221',\n",
       " '223',\n",
       " 'track_id_tracks',\n",
       " 'favorites_2',\n",
       " 'favorites_3',\n",
       " 'listens_1',\n",
       " 'listens_2',\n",
       " 'duration',\n",
       " 'track_id_features',\n",
       " 'chroma_cens',\n",
       " 'chroma_cens.1',\n",
       " 'chroma_cens.2',\n",
       " 'chroma_cens.3',\n",
       " 'chroma_cens.4',\n",
       " 'chroma_cens.5',\n",
       " 'chroma_cens.6',\n",
       " 'chroma_cens.7',\n",
       " 'chroma_cens.8',\n",
       " 'chroma_cens.9',\n",
       " 'chroma_cens.10',\n",
       " 'chroma_cens.11',\n",
       " 'chroma_cens.12',\n",
       " 'chroma_cens.13',\n",
       " 'chroma_cens.14',\n",
       " 'chroma_cens.15',\n",
       " 'chroma_cens.16',\n",
       " 'chroma_cens.17',\n",
       " 'chroma_cens.18',\n",
       " 'chroma_cens.19',\n",
       " 'chroma_cens.20',\n",
       " 'chroma_cens.21',\n",
       " 'chroma_cens.22',\n",
       " 'chroma_cens.23',\n",
       " 'chroma_cens.24',\n",
       " 'chroma_cens.25',\n",
       " 'chroma_cens.26',\n",
       " 'chroma_cens.27',\n",
       " 'chroma_cens.28',\n",
       " 'chroma_cens.29',\n",
       " 'chroma_cens.30',\n",
       " 'chroma_cens.31',\n",
       " 'chroma_cens.32',\n",
       " 'chroma_cens.33',\n",
       " 'chroma_cens.34',\n",
       " 'chroma_cens.35',\n",
       " 'chroma_cens.36',\n",
       " 'chroma_cens.37',\n",
       " 'chroma_cens.38',\n",
       " 'chroma_cens.39',\n",
       " 'chroma_cens.40',\n",
       " 'chroma_cens.41',\n",
       " 'chroma_cens.42',\n",
       " 'chroma_cens.43',\n",
       " 'chroma_cens.44',\n",
       " 'chroma_cens.45',\n",
       " 'chroma_cens.46',\n",
       " 'chroma_cens.47',\n",
       " 'chroma_cens.60',\n",
       " 'chroma_cens.61',\n",
       " 'chroma_cens.62',\n",
       " 'chroma_cens.63',\n",
       " 'chroma_cens.64',\n",
       " 'chroma_cens.65',\n",
       " 'chroma_cens.66',\n",
       " 'chroma_cens.67',\n",
       " 'chroma_cens.68',\n",
       " 'chroma_cens.69',\n",
       " 'chroma_cens.70',\n",
       " 'chroma_cens.71',\n",
       " 'chroma_cens.72',\n",
       " 'chroma_cens.73',\n",
       " 'chroma_cens.74',\n",
       " 'chroma_cens.75',\n",
       " 'chroma_cens.76',\n",
       " 'chroma_cens.77',\n",
       " 'chroma_cens.78',\n",
       " 'chroma_cens.79',\n",
       " 'chroma_cens.80',\n",
       " 'chroma_cens.81',\n",
       " 'chroma_cens.82',\n",
       " 'chroma_cens.83',\n",
       " 'chroma_cqt',\n",
       " 'chroma_cqt.1',\n",
       " 'chroma_cqt.2',\n",
       " 'chroma_cqt.3',\n",
       " 'chroma_cqt.4',\n",
       " 'chroma_cqt.5',\n",
       " 'chroma_cqt.6',\n",
       " 'chroma_cqt.7',\n",
       " 'chroma_cqt.8',\n",
       " 'chroma_cqt.9',\n",
       " 'chroma_cqt.10',\n",
       " 'chroma_cqt.11',\n",
       " 'chroma_cqt.12',\n",
       " 'chroma_cqt.13',\n",
       " 'chroma_cqt.14',\n",
       " 'chroma_cqt.15',\n",
       " 'chroma_cqt.16',\n",
       " 'chroma_cqt.17',\n",
       " 'chroma_cqt.18',\n",
       " 'chroma_cqt.19',\n",
       " 'chroma_cqt.20',\n",
       " 'chroma_cqt.21',\n",
       " 'chroma_cqt.22',\n",
       " 'chroma_cqt.23',\n",
       " 'chroma_cqt.24',\n",
       " 'chroma_cqt.25',\n",
       " 'chroma_cqt.26',\n",
       " 'chroma_cqt.27',\n",
       " 'chroma_cqt.28',\n",
       " 'chroma_cqt.29',\n",
       " 'chroma_cqt.30',\n",
       " 'chroma_cqt.31',\n",
       " 'chroma_cqt.32',\n",
       " 'chroma_cqt.33',\n",
       " 'chroma_cqt.34',\n",
       " 'chroma_cqt.35',\n",
       " 'chroma_cqt.36',\n",
       " 'chroma_cqt.37',\n",
       " 'chroma_cqt.38',\n",
       " 'chroma_cqt.39',\n",
       " 'chroma_cqt.40',\n",
       " 'chroma_cqt.41',\n",
       " 'chroma_cqt.42',\n",
       " 'chroma_cqt.43',\n",
       " 'chroma_cqt.44',\n",
       " 'chroma_cqt.45',\n",
       " 'chroma_cqt.46',\n",
       " 'chroma_cqt.47',\n",
       " 'chroma_cqt.48',\n",
       " 'chroma_cqt.49',\n",
       " 'chroma_cqt.50',\n",
       " 'chroma_cqt.51',\n",
       " 'chroma_cqt.52',\n",
       " 'chroma_cqt.53',\n",
       " 'chroma_cqt.54',\n",
       " 'chroma_cqt.55',\n",
       " 'chroma_cqt.56',\n",
       " 'chroma_cqt.57',\n",
       " 'chroma_cqt.58',\n",
       " 'chroma_cqt.59',\n",
       " 'chroma_cqt.60',\n",
       " 'chroma_cqt.61',\n",
       " 'chroma_cqt.62',\n",
       " 'chroma_cqt.63',\n",
       " 'chroma_cqt.64',\n",
       " 'chroma_cqt.65',\n",
       " 'chroma_cqt.66',\n",
       " 'chroma_cqt.67',\n",
       " 'chroma_cqt.68',\n",
       " 'chroma_cqt.69',\n",
       " 'chroma_cqt.70',\n",
       " 'chroma_cqt.71',\n",
       " 'chroma_cqt.72',\n",
       " 'chroma_cqt.73',\n",
       " 'chroma_cqt.74',\n",
       " 'chroma_cqt.75',\n",
       " 'chroma_cqt.76',\n",
       " 'chroma_cqt.77',\n",
       " 'chroma_cqt.78',\n",
       " 'chroma_cqt.79',\n",
       " 'chroma_cqt.80',\n",
       " 'chroma_cqt.81',\n",
       " 'chroma_cqt.82',\n",
       " 'chroma_cqt.83',\n",
       " 'chroma_stft',\n",
       " 'chroma_stft.1',\n",
       " 'chroma_stft.2',\n",
       " 'chroma_stft.3',\n",
       " 'chroma_stft.4',\n",
       " 'chroma_stft.5',\n",
       " 'chroma_stft.6',\n",
       " 'chroma_stft.7',\n",
       " 'chroma_stft.8',\n",
       " 'chroma_stft.9',\n",
       " 'chroma_stft.10',\n",
       " 'chroma_stft.11',\n",
       " 'chroma_stft.12',\n",
       " 'chroma_stft.13',\n",
       " 'chroma_stft.14',\n",
       " 'chroma_stft.15',\n",
       " 'chroma_stft.16',\n",
       " 'chroma_stft.17',\n",
       " 'chroma_stft.18',\n",
       " 'chroma_stft.19',\n",
       " 'chroma_stft.20',\n",
       " 'chroma_stft.21',\n",
       " 'chroma_stft.22',\n",
       " 'chroma_stft.23',\n",
       " 'chroma_stft.24',\n",
       " 'chroma_stft.25',\n",
       " 'chroma_stft.26',\n",
       " 'chroma_stft.27',\n",
       " 'chroma_stft.28',\n",
       " 'chroma_stft.29',\n",
       " 'chroma_stft.30',\n",
       " 'chroma_stft.31',\n",
       " 'chroma_stft.32',\n",
       " 'chroma_stft.33',\n",
       " 'chroma_stft.34',\n",
       " 'chroma_stft.35',\n",
       " 'chroma_stft.36',\n",
       " 'chroma_stft.37',\n",
       " 'chroma_stft.38',\n",
       " 'chroma_stft.39',\n",
       " 'chroma_stft.40',\n",
       " 'chroma_stft.41',\n",
       " 'chroma_stft.42',\n",
       " 'chroma_stft.43',\n",
       " 'chroma_stft.44',\n",
       " 'chroma_stft.45',\n",
       " 'chroma_stft.46',\n",
       " 'chroma_stft.47',\n",
       " 'chroma_stft.60',\n",
       " 'chroma_stft.61',\n",
       " 'chroma_stft.62',\n",
       " 'chroma_stft.63',\n",
       " 'chroma_stft.64',\n",
       " 'chroma_stft.65',\n",
       " 'chroma_stft.66',\n",
       " 'chroma_stft.67',\n",
       " 'chroma_stft.68',\n",
       " 'chroma_stft.69',\n",
       " 'chroma_stft.70',\n",
       " 'chroma_stft.71',\n",
       " 'chroma_stft.72',\n",
       " 'chroma_stft.73',\n",
       " 'chroma_stft.74',\n",
       " 'chroma_stft.75',\n",
       " 'chroma_stft.76',\n",
       " 'chroma_stft.77',\n",
       " 'chroma_stft.78',\n",
       " 'chroma_stft.79',\n",
       " 'chroma_stft.80',\n",
       " 'chroma_stft.81',\n",
       " 'chroma_stft.82',\n",
       " 'chroma_stft.83',\n",
       " 'mfcc',\n",
       " 'mfcc.1',\n",
       " 'mfcc.2',\n",
       " 'mfcc.3',\n",
       " 'mfcc.4',\n",
       " 'mfcc.5',\n",
       " 'mfcc.6',\n",
       " 'mfcc.7',\n",
       " 'mfcc.20',\n",
       " 'mfcc.21',\n",
       " 'mfcc.22',\n",
       " 'mfcc.23',\n",
       " 'mfcc.24',\n",
       " 'mfcc.25',\n",
       " 'mfcc.26',\n",
       " 'mfcc.27',\n",
       " 'mfcc.28',\n",
       " 'mfcc.29',\n",
       " 'mfcc.30',\n",
       " 'mfcc.31',\n",
       " 'mfcc.32',\n",
       " 'mfcc.33',\n",
       " 'mfcc.34',\n",
       " 'mfcc.35',\n",
       " 'mfcc.36',\n",
       " 'mfcc.37',\n",
       " 'mfcc.38',\n",
       " 'mfcc.39',\n",
       " 'mfcc.40',\n",
       " 'mfcc.41',\n",
       " 'mfcc.42',\n",
       " 'mfcc.43',\n",
       " 'mfcc.44',\n",
       " 'mfcc.45',\n",
       " 'mfcc.46',\n",
       " 'mfcc.47',\n",
       " 'mfcc.48',\n",
       " 'mfcc.49',\n",
       " 'mfcc.50',\n",
       " 'mfcc.51',\n",
       " 'mfcc.52',\n",
       " 'mfcc.53',\n",
       " 'mfcc.54',\n",
       " 'mfcc.55',\n",
       " 'mfcc.56',\n",
       " 'mfcc.57',\n",
       " 'mfcc.58',\n",
       " 'mfcc.59',\n",
       " 'mfcc.60',\n",
       " 'mfcc.61',\n",
       " 'mfcc.62',\n",
       " 'mfcc.63',\n",
       " 'mfcc.64',\n",
       " 'mfcc.65',\n",
       " 'mfcc.66',\n",
       " 'mfcc.67',\n",
       " 'mfcc.68',\n",
       " 'mfcc.69',\n",
       " 'mfcc.70',\n",
       " 'mfcc.71',\n",
       " 'mfcc.72',\n",
       " 'mfcc.73',\n",
       " 'mfcc.74',\n",
       " 'mfcc.75',\n",
       " 'mfcc.76',\n",
       " 'mfcc.77',\n",
       " 'mfcc.78',\n",
       " 'mfcc.79',\n",
       " 'mfcc.80',\n",
       " 'mfcc.81',\n",
       " 'mfcc.82',\n",
       " 'mfcc.83',\n",
       " 'mfcc.84',\n",
       " 'mfcc.85',\n",
       " 'mfcc.86',\n",
       " 'mfcc.87',\n",
       " 'mfcc.88',\n",
       " 'mfcc.89',\n",
       " 'mfcc.90',\n",
       " 'mfcc.91',\n",
       " 'mfcc.92',\n",
       " 'mfcc.93',\n",
       " 'mfcc.94',\n",
       " 'mfcc.95',\n",
       " 'mfcc.96',\n",
       " 'mfcc.97',\n",
       " 'mfcc.98',\n",
       " 'mfcc.99',\n",
       " 'mfcc.100',\n",
       " 'mfcc.101',\n",
       " 'mfcc.102',\n",
       " 'mfcc.103',\n",
       " 'mfcc.104',\n",
       " 'mfcc.105',\n",
       " 'mfcc.106',\n",
       " 'mfcc.107',\n",
       " 'mfcc.108',\n",
       " 'mfcc.109',\n",
       " 'mfcc.110',\n",
       " 'mfcc.111',\n",
       " 'mfcc.112',\n",
       " 'mfcc.113',\n",
       " 'mfcc.114',\n",
       " 'mfcc.115',\n",
       " 'mfcc.116',\n",
       " 'mfcc.117',\n",
       " 'mfcc.118',\n",
       " 'mfcc.119',\n",
       " 'mfcc.120',\n",
       " 'mfcc.121',\n",
       " 'mfcc.122',\n",
       " 'mfcc.123',\n",
       " 'mfcc.124',\n",
       " 'mfcc.125',\n",
       " 'mfcc.126',\n",
       " 'mfcc.127',\n",
       " 'mfcc.128',\n",
       " 'mfcc.129',\n",
       " 'mfcc.130',\n",
       " 'mfcc.131',\n",
       " 'mfcc.132',\n",
       " 'mfcc.133',\n",
       " 'mfcc.134',\n",
       " 'mfcc.135',\n",
       " 'mfcc.136',\n",
       " 'mfcc.137',\n",
       " 'mfcc.138',\n",
       " 'mfcc.139',\n",
       " 'rmse',\n",
       " 'rmse.1',\n",
       " 'rmse.2',\n",
       " 'rmse.3',\n",
       " 'rmse.4',\n",
       " 'rmse.5',\n",
       " 'rmse.6',\n",
       " 'spectral_bandwidth',\n",
       " 'spectral_bandwidth.1',\n",
       " 'spectral_bandwidth.2',\n",
       " 'spectral_bandwidth.3',\n",
       " 'spectral_bandwidth.4',\n",
       " 'spectral_bandwidth.6',\n",
       " 'spectral_centroid',\n",
       " 'spectral_centroid.1',\n",
       " 'spectral_centroid.2',\n",
       " 'spectral_centroid.3',\n",
       " 'spectral_centroid.4',\n",
       " 'spectral_centroid.6',\n",
       " 'spectral_contrast',\n",
       " 'spectral_contrast.1',\n",
       " 'spectral_contrast.2',\n",
       " 'spectral_contrast.3',\n",
       " 'spectral_contrast.4',\n",
       " 'spectral_contrast.5',\n",
       " 'spectral_contrast.6',\n",
       " 'spectral_contrast.7',\n",
       " 'spectral_contrast.8',\n",
       " 'spectral_contrast.9',\n",
       " 'spectral_contrast.10',\n",
       " 'spectral_contrast.11',\n",
       " 'spectral_contrast.12',\n",
       " 'spectral_contrast.13',\n",
       " 'spectral_contrast.14',\n",
       " 'spectral_contrast.15',\n",
       " 'spectral_contrast.16',\n",
       " 'spectral_contrast.17',\n",
       " 'spectral_contrast.20',\n",
       " 'spectral_contrast.21',\n",
       " 'spectral_contrast.22',\n",
       " 'spectral_contrast.23',\n",
       " 'spectral_contrast.24',\n",
       " 'spectral_contrast.25',\n",
       " 'spectral_contrast.26',\n",
       " 'spectral_contrast.27',\n",
       " 'spectral_contrast.28',\n",
       " 'spectral_contrast.29',\n",
       " 'spectral_contrast.30',\n",
       " 'spectral_contrast.31',\n",
       " 'spectral_contrast.32',\n",
       " 'spectral_contrast.33',\n",
       " 'spectral_contrast.34',\n",
       " 'spectral_contrast.35',\n",
       " 'spectral_contrast.36',\n",
       " 'spectral_contrast.37',\n",
       " 'spectral_contrast.38',\n",
       " 'spectral_contrast.39',\n",
       " 'spectral_contrast.40',\n",
       " 'spectral_contrast.41',\n",
       " 'spectral_contrast.42',\n",
       " 'spectral_contrast.43',\n",
       " 'spectral_contrast.44',\n",
       " 'spectral_contrast.45',\n",
       " 'spectral_contrast.46',\n",
       " 'spectral_contrast.47',\n",
       " 'spectral_contrast.48',\n",
       " 'spectral_rolloff',\n",
       " 'spectral_rolloff.1',\n",
       " 'spectral_rolloff.2',\n",
       " 'spectral_rolloff.3',\n",
       " 'spectral_rolloff.4',\n",
       " 'spectral_rolloff.6',\n",
       " 'tonnetz.2',\n",
       " 'tonnetz.3',\n",
       " 'tonnetz.4',\n",
       " 'tonnetz.5',\n",
       " 'tonnetz.6',\n",
       " 'tonnetz.7',\n",
       " 'tonnetz.8',\n",
       " 'tonnetz.9',\n",
       " 'tonnetz.10',\n",
       " 'tonnetz.11',\n",
       " 'tonnetz.12',\n",
       " 'tonnetz.13',\n",
       " 'tonnetz.14',\n",
       " 'tonnetz.15',\n",
       " 'tonnetz.16',\n",
       " 'tonnetz.17',\n",
       " 'tonnetz.18',\n",
       " 'tonnetz.19',\n",
       " 'tonnetz.20',\n",
       " 'tonnetz.21',\n",
       " 'tonnetz.22',\n",
       " 'tonnetz.23',\n",
       " 'tonnetz.24',\n",
       " 'tonnetz.25',\n",
       " 'tonnetz.26',\n",
       " 'tonnetz.27',\n",
       " 'tonnetz.28',\n",
       " 'tonnetz.29',\n",
       " 'tonnetz.30',\n",
       " 'tonnetz.31',\n",
       " 'tonnetz.32',\n",
       " 'tonnetz.33',\n",
       " 'tonnetz.34',\n",
       " 'tonnetz.35',\n",
       " 'tonnetz.36',\n",
       " 'tonnetz.37',\n",
       " 'tonnetz.38',\n",
       " 'tonnetz.39',\n",
       " 'tonnetz.40',\n",
       " 'tonnetz.41',\n",
       " 'zcr',\n",
       " 'zcr.1',\n",
       " 'zcr.2',\n",
       " 'zcr.3',\n",
       " 'zcr.6']"
      ]
     },
     "execution_count": 13,
     "metadata": {},
     "output_type": "execute_result"
    }
   ],
   "source": [
    "list(data)"
   ]
  },
  {
   "cell_type": "code",
   "execution_count": 14,
   "metadata": {},
   "outputs": [
    {
     "ename": "NameError",
     "evalue": "name 'SVC' is not defined",
     "output_type": "error",
     "traceback": [
      "\u001b[0;31m---------------------------------------------------------------------------\u001b[0m",
      "\u001b[0;31mNameError\u001b[0m                                 Traceback (most recent call last)",
      "\u001b[0;32m<ipython-input-14-2633ab1d1085>\u001b[0m in \u001b[0;36m<module>\u001b[0;34m()\u001b[0m\n\u001b[0;32m----> 1\u001b[0;31m \u001b[0msvm\u001b[0m \u001b[0;34m=\u001b[0m \u001b[0mSVC\u001b[0m\u001b[0;34m(\u001b[0m\u001b[0;34m)\u001b[0m\u001b[0;34m\u001b[0m\u001b[0m\n\u001b[0m",
      "\u001b[0;31mNameError\u001b[0m: name 'SVC' is not defined"
     ]
    }
   ],
   "source": []
  },
  {
   "cell_type": "code",
   "execution_count": 21,
   "metadata": {},
   "outputs": [],
   "source": [
    "from sklearn.svm import SVC"
   ]
  },
  {
   "cell_type": "code",
   "execution_count": 29,
   "metadata": {},
   "outputs": [],
   "source": [
    "gmm = GaussianMixture(n_components=7,random_state=0).fit(data)\n",
    "preds = gmm.predict(data)"
   ]
  },
  {
   "cell_type": "code",
   "execution_count": 22,
   "metadata": {},
   "outputs": [],
   "source": [
    "svm = SVC(kernel='linear')"
   ]
  },
  {
   "cell_type": "code",
   "execution_count": 17,
   "metadata": {},
   "outputs": [],
   "source": [
    "from sklearn.model_selection import train_test_split"
   ]
  },
  {
   "cell_type": "code",
   "execution_count": 49,
   "metadata": {},
   "outputs": [],
   "source": [
    "X=data\n",
    "y=kmeans.labels_"
   ]
  },
  {
   "cell_type": "code",
   "execution_count": 50,
   "metadata": {},
   "outputs": [],
   "source": [
    "X_train, X_test, y_train, y_test = train_test_split(    X, y, test_size=0.33, random_state=42)"
   ]
  },
  {
   "cell_type": "code",
   "execution_count": 51,
   "metadata": {},
   "outputs": [
    {
     "data": {
      "text/plain": [
       "SVC(C=1.0, cache_size=200, class_weight=None, coef0=0.0,\n",
       "  decision_function_shape='ovr', degree=3, gamma='auto', kernel='linear',\n",
       "  max_iter=-1, probability=False, random_state=None, shrinking=True,\n",
       "  tol=0.001, verbose=False)"
      ]
     },
     "execution_count": 51,
     "metadata": {},
     "output_type": "execute_result"
    }
   ],
   "source": [
    "svm.fit(X_train,y_train)"
   ]
  },
  {
   "cell_type": "code",
   "execution_count": 52,
   "metadata": {},
   "outputs": [],
   "source": [
    "y_pred=svm.predict(X_test)"
   ]
  },
  {
   "cell_type": "code",
   "execution_count": 53,
   "metadata": {},
   "outputs": [],
   "source": [
    "from sklearn.metrics import accuracy_score\n",
    "from sklearn.metrics import f1_score"
   ]
  },
  {
   "cell_type": "code",
   "execution_count": 54,
   "metadata": {},
   "outputs": [
    {
     "data": {
      "text/plain": [
       "0.969147005444646"
      ]
     },
     "execution_count": 54,
     "metadata": {},
     "output_type": "execute_result"
    }
   ],
   "source": [
    "accuracy_score(y_test, y_pred)"
   ]
  },
  {
   "cell_type": "code",
   "execution_count": 55,
   "metadata": {},
   "outputs": [
    {
     "data": {
      "text/plain": [
       "0.9698203679764225"
      ]
     },
     "execution_count": 55,
     "metadata": {},
     "output_type": "execute_result"
    }
   ],
   "source": [
    "f1_score(y_test, y_pred, average='macro')"
   ]
  },
  {
   "cell_type": "code",
   "execution_count": 48,
   "metadata": {},
   "outputs": [
    {
     "data": {
      "text/plain": [
       "array([1, 0, 6, ..., 3, 0, 0], dtype=int32)"
      ]
     },
     "execution_count": 48,
     "metadata": {},
     "output_type": "execute_result"
    }
   ],
   "source": [
    "kmeans = KMeans(init='k-means++',n_clusters=7,n_init=10,random_state=0)\n",
    "kmeans.fit_predict(data)"
   ]
  },
  {
   "cell_type": "code",
   "execution_count": null,
   "metadata": {},
   "outputs": [],
   "source": []
  }
 ],
 "metadata": {
  "kernelspec": {
   "display_name": "Python 3",
   "language": "python",
   "name": "python3"
  },
  "language_info": {
   "codemirror_mode": {
    "name": "ipython",
    "version": 3
   },
   "file_extension": ".py",
   "mimetype": "text/x-python",
   "name": "python",
   "nbconvert_exporter": "python",
   "pygments_lexer": "ipython3",
   "version": "3.6.4"
  }
 },
 "nbformat": 4,
 "nbformat_minor": 2
}
